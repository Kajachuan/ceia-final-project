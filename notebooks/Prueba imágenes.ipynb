{
  "nbformat": 4,
  "nbformat_minor": 0,
  "metadata": {
    "colab": {
      "provenance": [],
      "gpuType": "T4"
    },
    "kernelspec": {
      "name": "python3",
      "display_name": "Python 3"
    },
    "language_info": {
      "name": "python"
    },
    "accelerator": "GPU"
  },
  "cells": [
    {
      "cell_type": "code",
      "source": [
        "%pip install git+https://github.com/Kajachuan/ceia-final-project"
      ],
      "metadata": {
        "id": "LXC38XcsK49h"
      },
      "execution_count": null,
      "outputs": []
    },
    {
      "cell_type": "code",
      "source": [
        "import os\n",
        "import torch\n",
        "import torch.nn as nn\n",
        "import matplotlib.pyplot as plt\n",
        "import numpy as np\n",
        "\n",
        "from ceia_final_project.datasets import ArgentinaSentinel2Dataset\n",
        "from ceia_final_project.transforms import SegmentationTransform\n",
        "from ceia_final_project.modules import LightningSegmentation\n",
        "from ceia_final_project.constants import MEAN, STD\n",
        "\n",
        "from google.colab import drive\n",
        "\n",
        "from glob import glob\n",
        "\n",
        "from torch.utils.data import DataLoader\n",
        "\n",
        "from PIL import Image"
      ],
      "metadata": {
        "id": "D8W98R6-Kw_R"
      },
      "execution_count": null,
      "outputs": []
    },
    {
      "cell_type": "code",
      "source": [
        "drive.mount('/content/drive')"
      ],
      "metadata": {
        "id": "aD8fXujFXilv"
      },
      "execution_count": null,
      "outputs": []
    },
    {
      "cell_type": "code",
      "source": [
        "dataset_root_path = 'drive/MyDrive/CEIA/Trabajo Final/Dataset'"
      ],
      "metadata": {
        "id": "jee53_FtTP6_"
      },
      "execution_count": null,
      "outputs": []
    },
    {
      "cell_type": "code",
      "source": [
        "test_transform = SegmentationTransform(subset='test')"
      ],
      "metadata": {
        "id": "cA-AEuycCgBy"
      },
      "execution_count": null,
      "outputs": []
    },
    {
      "cell_type": "code",
      "source": [
        "test_dataset = ArgentinaSentinel2Dataset(dataset_root_path, 'test', test_transform, 256)"
      ],
      "metadata": {
        "id": "0E9P2MT0cdgC"
      },
      "execution_count": null,
      "outputs": []
    },
    {
      "cell_type": "code",
      "source": [
        "test_loader = DataLoader(test_dataset, batch_size=1, shuffle=False)"
      ],
      "metadata": {
        "id": "OgKWxbHcj2fz"
      },
      "execution_count": null,
      "outputs": []
    },
    {
      "cell_type": "code",
      "source": [
        "device = torch.device('cuda' if torch.cuda.is_available() else 'cpu')\n",
        "root_dir = 'drive/MyDrive/CEIA/Trabajo Final/Experimentos'\n",
        "log_dir = f'{root_dir}/logs'\n",
        "checks_dir = f'{root_dir}/checks'"
      ],
      "metadata": {
        "id": "vgJ1W2fgWFfT"
      },
      "execution_count": null,
      "outputs": []
    },
    {
      "cell_type": "code",
      "source": [
        "mean = np.array(MEAN).reshape(3,1,1)\n",
        "std = np.array(STD).reshape(3,1,1)"
      ],
      "metadata": {
        "id": "WHtMnEx4p6_o"
      },
      "execution_count": null,
      "outputs": []
    },
    {
      "cell_type": "code",
      "source": [
        "for idx, batch in enumerate(test_loader):\n",
        "  x_batch, y_batch = batch\n",
        "  orig_input = x_batch[0].cpu() * std + mean\n",
        "  orig_input = orig_input.permute(1, 2, 0).clip(min=0, max=1).numpy()\n",
        "  orig_image = Image.fromarray((orig_input * 255).astype(np.uint8))\n",
        "  orig_image.save(f'drive/MyDrive/CEIA/Trabajo Final/Evaluación Visual/Originales/input_{idx}.png')\n",
        "\n",
        "  orig_mask = y_batch[0].squeeze().cpu().numpy()\n",
        "  orig_mask = Image.fromarray((orig_mask * 255).astype(np.uint8))\n",
        "  orig_mask.save(f'drive/MyDrive/CEIA/Trabajo Final/Evaluación Visual/Mascaras originales/mask_{idx}.png')"
      ],
      "metadata": {
        "id": "auSOBsQiqdjx"
      },
      "execution_count": null,
      "outputs": []
    },
    {
      "cell_type": "code",
      "source": [
        "models = [\n",
        "    'ahnet__dice',\n",
        "'swinunetr__dice',\n",
        "# 'swinunetr_v2__dice',\n",
        "# 'segresnet__dice',\n",
        "]"
      ],
      "metadata": {
        "id": "6M4t0fmDpWS8"
      },
      "execution_count": null,
      "outputs": []
    },
    {
      "cell_type": "code",
      "source": [
        "for name in models:\n",
        "  for checkpoint in glob(f'{checks_dir}/{name}/*.ckpt', recursive=True):\n",
        "# for checkpoint in glob(f'{checks_dir}/**/*.ckpt', recursive=True):\n",
        "    model = LightningSegmentation.load_from_checkpoint(checkpoint).model\n",
        "    model.eval()\n",
        "\n",
        "    model_name = checkpoint.split('/')[-2]\n",
        "    print(model_name)\n",
        "    results_path = f'drive/MyDrive/CEIA/Trabajo Final/Evaluación Visual/Resultados/{model_name}'\n",
        "    os.makedirs(results_path, exist_ok=True)\n",
        "\n",
        "    for idx, batch in enumerate(test_loader):\n",
        "      x_batch, _ = batch\n",
        "      x_batch = x_batch.to(device).float()\n",
        "\n",
        "      nnet_output = model(x_batch).cpu()\n",
        "      output_proba = nn.functional.sigmoid(nnet_output)\n",
        "      y_hat_batch = (output_proba > 0.5).squeeze().long()\n",
        "\n",
        "      mask = y_hat_batch.detach().cpu().numpy()\n",
        "      mask = Image.fromarray((mask * 255).astype(np.uint8))\n",
        "      mask.save(f'{results_path}/mask_{idx}.png')"
      ],
      "metadata": {
        "id": "TL1DhRHplWcI"
      },
      "execution_count": null,
      "outputs": []
    },
    {
      "cell_type": "code",
      "source": [],
      "metadata": {
        "id": "WfCMU6tqqrK9"
      },
      "execution_count": null,
      "outputs": []
    }
  ]
}